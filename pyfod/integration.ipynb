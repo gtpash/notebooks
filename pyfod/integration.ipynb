{
 "cells": [
  {
   "cell_type": "markdown",
   "metadata": {},
   "source": [
    "# Integral Convergence Tests for [pyfod](https://github.com/prmiles/pyfod/wiki)\n",
    "Author(s): Graham T. Pash, Paul R. Miles | April 17, 2019\n",
    "# The [pyfod](https://github.com/prmiles/pyfod/wiki) package is a Python program for numerically approximating fractional order derivatives (fod).  The definitions available within the package include:\n",
    "\n",
    "The [pyfod](https://github.com/prmiles/pyfod/wiki) package is a Python program for numerically approximating fractional order derivatives (fod).  The definitions available within the package include:\n",
    " \n",
    "- Riemann-Liouville\n",
    "$$\n",
    "D_{RL}^\\alpha[f(t)] = \\frac{1}{\\Gamma(n-\\alpha)}\\frac{d^n}{dt^n}\\int_{t_0}^{t_f}\\frac{f(s)}{(t_f-s)^\\alpha}ds \\;\\; \\text{where} \\;\\; n=\\lceil\\alpha\\rceil.\n",
    "$$\n",
    "- Caputo\n",
    "$$\n",
    "D_C^\\alpha[f(t)] = \\frac{1}{\\Gamma(n-\\alpha)}\\int_{t_0}^{t_f}\\frac{f^{(n)}(s)}{(t_f-s)^\\alpha}ds \\;\\; \\text{where} \\;\\; n=\\lceil\\alpha\\rceil.\n",
    "$$\n",
    "- Grünwald-Letnikov\n",
    "$$\n",
    "D_G^\\alpha [f(t)]=\\lim_{h\\rightarrow 0} \\frac{1}{h^\\alpha}\\sum_{0\\leq m< \\infty}(-1)^m{\\scriptsize\\left(\\begin{array}{c}\\alpha\\\\m\\end{array}\\right)}f(t-mh).\n",
    "$$\n",
    "**Note:** At this time, the Riemann-Liouville definition is limited to cases where $\\alpha \\in [0, 1)$.\n",
    "\n",
    "# Installation\n",
    "This code can be found on the [Github project page](https://github.com/prmiles/pyfod).  To install the master branch directly from Github,\n",
    "```\n",
    "    pip install git+https://github.com/prmiles/pyfod.git\n",
    "```\n",
    "**Note:** Current examples generated using development branch of repository.\n",
    "# Quadrature Methods\n",
    "The following general examples demonstrate the various quadrature methods available to approximate the sinular integral in the [Riemann-Liouville](https://nbviewer.jupyter.org/github/prmiles/notebooks/blob/master/pyfod/riemann_liouville.ipynb) definition of the fractional derivative:\n",
    "- Guass-Legendre Quadrature\n",
    "- Guass-Laguerre Quadrature\n",
    "- Riemman Sum Method"
   ]
  },
  {
   "cell_type": "markdown",
   "metadata": {},
   "source": [
    "# Example\n",
    "Consider the function\n",
    "$$\n",
    "f(t) = \\exp (2t)\n",
    "$$"
   ]
  },
  {
   "cell_type": "code",
   "execution_count": 1,
   "metadata": {},
   "outputs": [],
   "source": [
    "import numpy as np\n",
    "def f(t):\n",
    "    return np.exp(2*t)"
   ]
  },
  {
   "cell_type": "markdown",
   "metadata": {},
   "source": [
    "where $t\\in [0,1]$ and $\\alpha = 0.9$. Using [Mathematica](https://www.wolfram.com/mathematica/) the exact value of the singular kernal may be found,\n",
    "$$\n",
    "\\int_0^1 \\frac{\\exp (2t)}{(1-s)^{0.9}}ds = 65.2162\\dots\n",
    "$$"
   ]
  },
  {
   "cell_type": "code",
   "execution_count": 2,
   "metadata": {},
   "outputs": [],
   "source": [
    "alpha = 0.9\n",
    "start = 0.\n",
    "finish = 1."
   ]
  },
  {
   "cell_type": "markdown",
   "metadata": {},
   "source": [
    "# Riemann-Sum Quadrature\n",
    "Consider a Riemann-Sum approach."
   ]
  },
  {
   "cell_type": "code",
   "execution_count": 3,
   "metadata": {},
   "outputs": [
    {
     "name": "stdout",
     "output_type": "stream",
     "text": [
      "Int[exp(2s)/(1-s)^0.9] = 53.45905083850196\n"
     ]
    }
   ],
   "source": [
    "import pyfod\n",
    "from pyfod.quadrature import RiemannSum as RS\n",
    "out = RS(f=f, alpha=alpha, start=start, finish=finish).integrate()\n",
    "print('Int[exp(2s)/(1-s)^0.9] = {}'.format(out))"
   ]
  },
  {
   "cell_type": "markdown",
   "metadata": {},
   "source": [
    "Using the default options does not provide an accurate approximation for the singular kernel. To improve the approximation, we can refine the quadrature mesh."
   ]
  },
  {
   "cell_type": "code",
   "execution_count": 4,
   "metadata": {},
   "outputs": [
    {
     "name": "stdout",
     "output_type": "stream",
     "text": [
      "Running Riemann Sum for Int(exp(2t)/(1-t)^0.9)\n",
      "RS Nodes\tRel. Error\n",
      "2\t\t0.5831891725584984\n",
      "4\t\t0.23732133269782166\n",
      "8\t\t0.1028871575413055\n",
      "16\t\t0.046312549696904036\n",
      "32\t\t0.021233984978914742\n",
      "64\t\t0.009822993619213589\n",
      "128\t\t0.004563934543633586\n",
      "256\t\t0.0021249419080308428\n",
      "512\t\t0.0009903575343785452\n",
      "1024\t\t0.0004617832837065931\n"
     ]
    }
   ],
   "source": [
    "from time import time\n",
    "xstar = 65.2162 # true solution\n",
    "nodes = np.exp2(range(1, 11)).astype(int)\n",
    "xhat = []\n",
    "error = []\n",
    "runtime = []\n",
    "nruns = 100\n",
    "print('Running Riemann Sum for Int(exp(2t)/(1-t)^{})'.format(alpha))\n",
    "print('RS Nodes\\tRel. Error')\n",
    "for N in nodes:\n",
    "    st = time()\n",
    "    for i in range(nruns):\n",
    "        if i==0:\n",
    "            xhat.append(RS(f=f, alpha=alpha, start=start, finish=finish, N=N).integrate())\n",
    "        else:\n",
    "            RS(f=f, alpha=alpha, start=start, finish=finish).integrate()\n",
    "    et = time()\n",
    "    error.append(np.abs(xstar-xhat[-1])/np.abs(xstar))\n",
    "    runtime.append((et-st)/nruns)\n",
    "    print('{}\\t\\t{}'.format(N,error[-1]))\n",
    "    \n",
    "# store output\n",
    "out = dict(rs=dict(nodes=nodes, xhat=np.array(xhat), error=np.array(error),\n",
    "                   runtime=np.array(runtime),\n",
    "                   plot=dict(marker='s', color='r', linewidth=2,\n",
    "                            markersize=10, mfc='none',\n",
    "                            label='Riemann-Sum')))"
   ]
  },
  {
   "cell_type": "markdown",
   "metadata": {},
   "source": [
    "# Gauss-Legendre Composite Quadrature\n",
    "Next, we consider using an Composite [Gauss-Legendre](http://mathworld.wolfram.com/Legendre-GaussQuadrature.html) quadrature scheme, where we may specify the number of subdomains as well as the degree of the quadrature on each subdomain. For simplicity, we take one domain for this example."
   ]
  },
  {
   "cell_type": "code",
   "execution_count": 5,
   "metadata": {},
   "outputs": [
    {
     "name": "stdout",
     "output_type": "stream",
     "text": [
      "Running n-point Gauss-Legendre for Int(exp(2t)/(1-t)^0.9)\n",
      "Gauss-Legendre Degree\t\tRel. Error\n",
      "2\t\t\t\t0.8351324137645192\n",
      "4\t\t\t\t0.7418836140985944\n",
      "8\t\t\t\t0.6531279381389729\n",
      "16\t\t\t\t0.5719523926080966\n",
      "32\t\t\t\t0.49942852170923446\n",
      "64\t\t\t\t0.4354480506336105\n",
      "128\t\t\t\t0.3793737046811267\n",
      "256\t\t\t\t0.33039256018219326\n",
      "512\t\t\t\t0.28767950465776815\n",
      "1024\t\t\t\t0.2504639849314749\n"
     ]
    }
   ],
   "source": [
    "from pyfod.quadrature import GaussLegendre as GLeg\n",
    "nodes = np.exp2(range(1, 11)).astype(int)\n",
    "xhat = []\n",
    "error = []\n",
    "runtime = []\n",
    "nruns = 100\n",
    "print('Running n-point Gauss-Legendre for Int(exp(2t)/(1-t)^{})'.format(alpha))\n",
    "print('Gauss-Legendre Degree\\t\\tRel. Error')\n",
    "for N in nodes:\n",
    "    st = time()\n",
    "    for i in range(nruns):\n",
    "        if i==0:\n",
    "            xhat.append(GLeg(f=f, alpha=alpha, start=start, finish=finish, Ndom=1, deg=N).integrate())\n",
    "        else:\n",
    "            GLeg(f=f, alpha=alpha, start=start, finish=finish, Ndom=1, deg=N).integrate()\n",
    "    et = time()\n",
    "    error.append(np.abs(xstar-xhat[-1])/np.abs(xstar))\n",
    "    runtime.append((et-st)/nruns)\n",
    "    print('{}\\t\\t\\t\\t{}'.format(N,error[-1]))\n",
    "    \n",
    "# store output\n",
    "out['gleg'] = dict(dict(nodes=nodes, xhat=np.array(xhat), error=np.array(error),\n",
    "                   runtime=np.array(runtime),\n",
    "                   plot=dict(marker='o', color='b', linewidth=2,\n",
    "                            markersize=10, mfc='none',\n",
    "                            label='Gauss-Legendre')))"
   ]
  },
  {
   "cell_type": "markdown",
   "metadata": {},
   "source": [
    "Alternatively, one can use a composite quadrature rule, with a lower order quadrature on each subdomain. "
   ]
  },
  {
   "cell_type": "code",
   "execution_count": 6,
   "metadata": {},
   "outputs": [
    {
     "name": "stdout",
     "output_type": "stream",
     "text": [
      "Running Composite 4-point Gauss-Legendre for Int(exp(2t)/(1-t)^0.9)\n",
      "Gauss-Legendre Domains\t\tRel. Error\n",
      "2\t\t\t\t0.6919907995981719\n",
      "4\t\t\t\t0.6455536597976539\n",
      "8\t\t\t\t0.6022782269828033\n",
      "16\t\t\t\t0.5619247278293152\n",
      "32\t\t\t\t0.5242846604600446\n",
      "64\t\t\t\t0.4891703870357272\n",
      "128\t\t\t\t0.45641001062102216\n",
      "256\t\t\t\t0.42584461693718817\n",
      "512\t\t\t\t0.3973266177335165\n",
      "1024\t\t\t\t0.37071862686329243\n"
     ]
    }
   ],
   "source": [
    "from pyfod.quadrature import GaussLegendre as GLeg\n",
    "nodes = np.exp2(range(1, 11)).astype(int)\n",
    "xhat = []\n",
    "error = []\n",
    "runtime = []\n",
    "nruns = 100\n",
    "print('Running Composite 4-point Gauss-Legendre for Int(exp(2t)/(1-t)^{})'.format(alpha))\n",
    "print('Gauss-Legendre Domains\\t\\tRel. Error')\n",
    "for N in nodes:\n",
    "    st = time()\n",
    "    for i in range(nruns):\n",
    "        if i==0:\n",
    "            xhat.append(GLeg(f=f, alpha=alpha, start=start, finish=finish, Ndom=N, deg=4).integrate())\n",
    "        else:\n",
    "            GLeg(f=f, alpha=alpha, start=start, finish=finish, Ndom=N, deg=4).integrate()\n",
    "    et = time()\n",
    "    error.append(np.abs(xstar-xhat[-1])/np.abs(xstar))\n",
    "    runtime.append((et-st)/nruns)\n",
    "    print('{}\\t\\t\\t\\t{}'.format(N,error[-1]))"
   ]
  },
  {
   "cell_type": "markdown",
   "metadata": {},
   "source": [
    "# Gauss-Laguerre Quadrature\n",
    "To better accomodate the singular kernel, we have implemented [Gauss-Laguerre](http://mathworld.wolfram.com/Laguerre-GaussQuadrature.html) quadrature mapped to the interval $[t_0,t_f]$ from the original domain $[0,\\infty)$. The user may specify the number of nodes to employ."
   ]
  },
  {
   "cell_type": "code",
   "execution_count": 7,
   "metadata": {},
   "outputs": [
    {
     "name": "stdout",
     "output_type": "stream",
     "text": [
      "Running Gauss-Laguerre for Int(exp(2t)/(1-t)^0.9)\n",
      "Gauss-Laguerre Nodes\t\tRel. Error\n",
      "2\t\t\t\t0.6105769787672501\n",
      "4\t\t\t\t0.2980414778559573\n",
      "8\t\t\t\t0.06665016549538749\n",
      "16\t\t\t\tinf\n"
     ]
    },
    {
     "name": "stderr",
     "output_type": "stream",
     "text": [
      "/root/envs/pyfod/lib/python3.6/site-packages/pyfod-0.0.0rc2-py3.6.egg/pyfod/quadrature.py:142: RuntimeWarning: divide by zero encountered in power\n",
      "  coef = span**(1-alpha)*(1-self.points)**(-alpha)\n"
     ]
    }
   ],
   "source": [
    "from pyfod.quadrature import GaussLaguerre as GLag\n",
    "nodes = np.exp2(range(1, 5)).astype(int)\n",
    "xhat = []\n",
    "error = []\n",
    "runtime = []\n",
    "nruns = 100\n",
    "print('Running Gauss-Laguerre for Int(exp(2t)/(1-t)^{})'.format(alpha))\n",
    "print('Gauss-Laguerre Nodes\\t\\tRel. Error')\n",
    "for N in nodes:\n",
    "    st = time()\n",
    "    for i in range(nruns):\n",
    "        if i==0:\n",
    "            xhat.append(GLag(f=f, alpha=alpha, start=start, finish=finish, N=N, extend_precision=False).integrate())\n",
    "        else:\n",
    "            GLag(f=f, alpha=alpha, start=start, finish=finish, extend_precision=False).integrate()\n",
    "    et = time()\n",
    "    error.append(np.abs(xstar-xhat[-1])/np.abs(xstar))\n",
    "    runtime.append((et-st)/nruns)\n",
    "    print('{}\\t\\t\\t\\t{}'.format(N,error[-1]))\n",
    "# drop the nan\n",
    "xhat = xhat[0:-1]\n",
    "error = error[0:-1]\n",
    "runtime = runtime[0:-1]"
   ]
  },
  {
   "cell_type": "markdown",
   "metadata": {},
   "source": [
    "Note that the computation of the nodes and weights for Gauss-Laguerre quadrature requires the use of extended precision to avoid numerical overflow. To implement this, we have utilized the symboic toolkit in Python, `sympy`."
   ]
  },
  {
   "cell_type": "code",
   "execution_count": 8,
   "metadata": {},
   "outputs": [
    {
     "name": "stdout",
     "output_type": "stream",
     "text": [
      "Running Gauss-Laguerre for Int(exp(2t)/(1-t)^0.9) with Extended Precision\n",
      "Gauss-Laguerre Nodes\t\tRel. Error\n",
      "16\t\t\t\t0.003063131454344597\n",
      "32\t\t\t\t5.777227402991027e-06\n",
      "64\t\t\t\tnan\n"
     ]
    }
   ],
   "source": [
    "import sympy as sp\n",
    "\n",
    "# define sympy compatible function\n",
    "def fsp(t):\n",
    "    return sp.exp(2*t)\n",
    "\n",
    "nruns = 10\n",
    "ep_digits = 64 # octuple precision\n",
    "nodes = np.exp2(range(4,7)).astype(int)\n",
    "print('Running Gauss-Laguerre for Int(exp(2t)/(1-t)^{}) with Extended Precision'.format(alpha))\n",
    "print('Gauss-Laguerre Nodes\\t\\tRel. Error')\n",
    "for N in nodes:\n",
    "    st = time()\n",
    "    for i in range(nruns):\n",
    "        if i==0:\n",
    "            xhat.append(GLag(f=fsp, alpha=alpha, start=start, finish=finish, N=N, extend_precision=True, n_digits=ep_digits).integrate())\n",
    "        else:\n",
    "            GLag(f=fsp, alpha=alpha, start=start, finish=finish, extend_precision=True, n_digits=ep_digits).integrate()\n",
    "    et = time()\n",
    "    error.append(np.abs(xstar-xhat[-1])/np.abs(xstar))\n",
    "    runtime.append((et-st)/nruns)\n",
    "    print('{}\\t\\t\\t\\t{}'.format(N,error[-1]))\n",
    "    \n",
    "\n",
    "# store output\n",
    "xhat = xhat[0:-1]\n",
    "error = error[0:-1]\n",
    "runtime = runtime[0:-1]\n",
    "out['glag'] = dict(dict(nodes=np.exp2(range(1,6)).astype(int), xhat=np.array(xhat), error=np.array(error),\n",
    "                   runtime=np.array(runtime),\n",
    "                   plot=dict(marker='d', color='k', linewidth=2,\n",
    "                            markersize=10, mfc='none',\n",
    "                            label='Gauss-Laguerre')))"
   ]
  },
  {
   "cell_type": "markdown",
   "metadata": {},
   "source": [
    "*Caution:* Gauss-Laguerre quadrature may encounter numerical overflow issues with relatively few nodes, even when using extended precision! "
   ]
  },
  {
   "cell_type": "markdown",
   "metadata": {},
   "source": [
    "# Plot Convergence for All Quadrature Methods"
   ]
  },
  {
   "cell_type": "code",
   "execution_count": 9,
   "metadata": {},
   "outputs": [
    {
     "data": {
      "image/png": "[encoded data removed]",
      "text/plain": [
       "<Figure size 576x360 with 1 Axes>"
      ]
     },
     "metadata": {
      "needs_background": "light"
     },
     "output_type": "display_data"
    }
   ],
   "source": [
    "import matplotlib.pyplot as plt\n",
    "import seaborn as sns\n",
    "%matplotlib inline\n",
    "\n",
    "sns.set_context('talk')\n",
    "plt.figure(figsize=(8,5))\n",
    "for qm in out:\n",
    "    plt.loglog(out[qm]['nodes'], out[qm]['error'], **out[qm]['plot'])\n",
    "plt.xlabel('log(N)')\n",
    "plt.ylabel('log(relative error)')\n",
    "plt.title('Grid Refinement Study of $\\int_0^1 \\exp (2t)/(1-t)^{0.9}$')\n",
    "plt.legend(bbox_to_anchor=(1.04,1), loc=\"upper left\", fontsize=10)\n",
    "plt.tight_layout()"
   ]
  }
 ],
 "metadata": {
  "kernelspec": {
   "display_name": "pyfod",
   "language": "python",
   "name": "pyfod"
  },
  "language_info": {
   "codemirror_mode": {
    "name": "ipython",
    "version": 3
   },
   "file_extension": ".py",
   "mimetype": "text/x-python",
   "name": "python",
   "nbconvert_exporter": "python",
   "pygments_lexer": "ipython3",
   "version": "3.6.7"
  }
 },
 "nbformat": 4,
 "nbformat_minor": 2
}
